{
 "cells": [
  {
   "cell_type": "code",
   "execution_count": 1,
   "metadata": {},
   "outputs": [],
   "source": [
    "from classify_image import recognizeImage"
   ]
  },
  {
   "cell_type": "code",
   "execution_count": 2,
   "metadata": {},
   "outputs": [],
   "source": [
    "with open('./sample_cifar10_base64/image10.txt') as f:\n",
    "    base64_txt = ''\n",
    "    for line in f.readlines():\n",
    "        base64_txt += line"
   ]
  },
  {
   "cell_type": "code",
   "execution_count": 3,
   "metadata": {},
   "outputs": [
    {
     "name": "stdout",
     "output_type": "stream",
     "text": [
      "model is CUDA False\n"
     ]
    },
    {
     "data": {
      "text/plain": [
       "{'prediction': {'predicted_class': 'bird',\n",
       "  'prob_predicted_class': '0.5316521',\n",
       "  'airplane': '0.047819633',\n",
       "  'automobile': '0.00023846621',\n",
       "  'bird': '0.5316521',\n",
       "  'cat': '0.23235305',\n",
       "  'deer': '0.08609975',\n",
       "  'dog': '0.042362124',\n",
       "  'frog': '0.055959355',\n",
       "  'horse': '0.0014004881',\n",
       "  'ship': '0.0019173473',\n",
       "  'truck': '0.00019774266'},\n",
       " 'message': 'success!'}"
      ]
     },
     "execution_count": 3,
     "metadata": {},
     "output_type": "execute_result"
    }
   ],
   "source": [
    "recognizeImage(base64_txt)"
   ]
  }
 ],
 "metadata": {
  "kernelspec": {
   "display_name": "Python 3",
   "language": "python",
   "name": "python3"
  },
  "language_info": {
   "codemirror_mode": {
    "name": "ipython",
    "version": 3
   },
   "file_extension": ".py",
   "mimetype": "text/x-python",
   "name": "python",
   "nbconvert_exporter": "python",
   "pygments_lexer": "ipython3",
   "version": "3.6.12"
  },
  "varInspector": {
   "cols": {
    "lenName": 16,
    "lenType": 16,
    "lenVar": 40
   },
   "kernels_config": {
    "python": {
     "delete_cmd_postfix": "",
     "delete_cmd_prefix": "del ",
     "library": "var_list.py",
     "varRefreshCmd": "print(var_dic_list())"
    },
    "r": {
     "delete_cmd_postfix": ") ",
     "delete_cmd_prefix": "rm(",
     "library": "var_list.r",
     "varRefreshCmd": "cat(var_dic_list()) "
    }
   },
   "types_to_exclude": [
    "module",
    "function",
    "builtin_function_or_method",
    "instance",
    "_Feature"
   ],
   "window_display": false
  }
 },
 "nbformat": 4,
 "nbformat_minor": 4
}
