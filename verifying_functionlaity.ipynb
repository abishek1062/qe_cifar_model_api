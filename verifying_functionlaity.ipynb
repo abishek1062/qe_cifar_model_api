{
 "cells": [
  {
   "cell_type": "code",
   "execution_count": 2,
   "metadata": {},
   "outputs": [],
   "source": [
    "from classify_image import recognizeImage"
   ]
  },
  {
   "cell_type": "code",
   "execution_count": 3,
   "metadata": {},
   "outputs": [],
   "source": [
    "with open('./sample_cifar10_base64/image10.txt') as f:\n",
    "    base64_txt = ''\n",
    "    for line in f.readlines():\n",
    "        base64_txt += line"
   ]
  },
  {
   "cell_type": "code",
   "execution_count": 5,
   "metadata": {},
   "outputs": [
    {
     "data": {
      "text/plain": [
       "{'prediction': {'predicted_class': 'bird',\n",
       "  'prob_predicted_class': '0.53165203',\n",
       "  'airplane': '0.047819648',\n",
       "  'automobile': '0.00023846628',\n",
       "  'bird': '0.53165203',\n",
       "  'cat': '0.23235302',\n",
       "  'deer': '0.08609979',\n",
       "  'dog': '0.042362113',\n",
       "  'frog': '0.055959374',\n",
       "  'horse': '0.0014004888',\n",
       "  'ship': '0.0019173489',\n",
       "  'truck': '0.00019774283'},\n",
       " 'message': 'success!'}"
      ]
     },
     "execution_count": 5,
     "metadata": {},
     "output_type": "execute_result"
    }
   ],
   "source": [
    "recognizeImage(base64_txt)"
   ]
  }
 ],
 "metadata": {
  "kernelspec": {
   "display_name": "Python 3",
   "language": "python",
   "name": "python3"
  },
  "language_info": {
   "codemirror_mode": {
    "name": "ipython",
    "version": 3
   },
   "file_extension": ".py",
   "mimetype": "text/x-python",
   "name": "python",
   "nbconvert_exporter": "python",
   "pygments_lexer": "ipython3",
   "version": "3.6.12"
  },
  "varInspector": {
   "cols": {
    "lenName": 16,
    "lenType": 16,
    "lenVar": 40
   },
   "kernels_config": {
    "python": {
     "delete_cmd_postfix": "",
     "delete_cmd_prefix": "del ",
     "library": "var_list.py",
     "varRefreshCmd": "print(var_dic_list())"
    },
    "r": {
     "delete_cmd_postfix": ") ",
     "delete_cmd_prefix": "rm(",
     "library": "var_list.r",
     "varRefreshCmd": "cat(var_dic_list()) "
    }
   },
   "types_to_exclude": [
    "module",
    "function",
    "builtin_function_or_method",
    "instance",
    "_Feature"
   ],
   "window_display": false
  }
 },
 "nbformat": 4,
 "nbformat_minor": 4
}
